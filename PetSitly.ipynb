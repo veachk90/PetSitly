{
 "cells": [
  {
   "cell_type": "code",
   "execution_count": 1,
   "id": "aeea558d",
   "metadata": {},
   "outputs": [
    {
     "ename": "ImportError",
     "evalue": "cannot import name '_get_object_size' from 'bson' (C:\\Users\\veach\\anaconda3\\envs\\PythonData\\lib\\site-packages\\bson\\__init__.py)",
     "output_type": "error",
     "traceback": [
      "\u001b[1;31m---------------------------------------------------------------------------\u001b[0m",
      "\u001b[1;31mImportError\u001b[0m                               Traceback (most recent call last)",
      "\u001b[1;32m~\\AppData\\Local\\Temp\\ipykernel_3144\\1549228166.py\u001b[0m in \u001b[0;36m<module>\u001b[1;34m\u001b[0m\n\u001b[1;32m----> 1\u001b[1;33m \u001b[1;32mfrom\u001b[0m \u001b[0mpymongo\u001b[0m \u001b[1;32mimport\u001b[0m \u001b[0mMongoClient\u001b[0m\u001b[1;33m\u001b[0m\u001b[1;33m\u001b[0m\u001b[0m\n\u001b[0m\u001b[0;32m      2\u001b[0m \u001b[0mmongo\u001b[0m \u001b[1;33m=\u001b[0m \u001b[0mMongoClient\u001b[0m\u001b[1;33m(\u001b[0m\u001b[0mport\u001b[0m\u001b[1;33m=\u001b[0m\u001b[1;36m27017\u001b[0m\u001b[1;33m)\u001b[0m\u001b[1;33m\u001b[0m\u001b[1;33m\u001b[0m\u001b[0m\n",
      "\u001b[1;32m~\\anaconda3\\envs\\PythonData\\lib\\site-packages\\pymongo\\__init__.py\u001b[0m in \u001b[0;36m<module>\u001b[1;34m\u001b[0m\n\u001b[0;32m     87\u001b[0m \u001b[1;32mfrom\u001b[0m \u001b[0mpymongo\u001b[0m \u001b[1;32mimport\u001b[0m \u001b[0m_csot\u001b[0m\u001b[1;33m\u001b[0m\u001b[1;33m\u001b[0m\u001b[0m\n\u001b[0;32m     88\u001b[0m \u001b[1;32mfrom\u001b[0m \u001b[0mpymongo\u001b[0m\u001b[1;33m.\u001b[0m\u001b[0m_version\u001b[0m \u001b[1;32mimport\u001b[0m \u001b[0m__version__\u001b[0m\u001b[1;33m,\u001b[0m \u001b[0mget_version_string\u001b[0m\u001b[1;33m,\u001b[0m \u001b[0mversion\u001b[0m\u001b[1;33m,\u001b[0m \u001b[0mversion_tuple\u001b[0m\u001b[1;33m\u001b[0m\u001b[1;33m\u001b[0m\u001b[0m\n\u001b[1;32m---> 89\u001b[1;33m \u001b[1;32mfrom\u001b[0m \u001b[0mpymongo\u001b[0m\u001b[1;33m.\u001b[0m\u001b[0mcollection\u001b[0m \u001b[1;32mimport\u001b[0m \u001b[0mReturnDocument\u001b[0m\u001b[1;33m\u001b[0m\u001b[1;33m\u001b[0m\u001b[0m\n\u001b[0m\u001b[0;32m     90\u001b[0m \u001b[1;32mfrom\u001b[0m \u001b[0mpymongo\u001b[0m\u001b[1;33m.\u001b[0m\u001b[0mcommon\u001b[0m \u001b[1;32mimport\u001b[0m \u001b[0mMAX_SUPPORTED_WIRE_VERSION\u001b[0m\u001b[1;33m,\u001b[0m \u001b[0mMIN_SUPPORTED_WIRE_VERSION\u001b[0m\u001b[1;33m\u001b[0m\u001b[1;33m\u001b[0m\u001b[0m\n\u001b[0;32m     91\u001b[0m \u001b[1;32mfrom\u001b[0m \u001b[0mpymongo\u001b[0m\u001b[1;33m.\u001b[0m\u001b[0mcursor\u001b[0m \u001b[1;32mimport\u001b[0m \u001b[0mCursorType\u001b[0m\u001b[1;33m\u001b[0m\u001b[1;33m\u001b[0m\u001b[0m\n",
      "\u001b[1;32m~\\anaconda3\\envs\\PythonData\\lib\\site-packages\\pymongo\\collection.py\u001b[0m in \u001b[0;36m<module>\u001b[1;34m\u001b[0m\n\u001b[0;32m     33\u001b[0m \u001b[1;32mfrom\u001b[0m \u001b[0mbson\u001b[0m\u001b[1;33m.\u001b[0m\u001b[0mcodec_options\u001b[0m \u001b[1;32mimport\u001b[0m \u001b[0mCodecOptions\u001b[0m\u001b[1;33m\u001b[0m\u001b[1;33m\u001b[0m\u001b[0m\n\u001b[0;32m     34\u001b[0m \u001b[1;32mfrom\u001b[0m \u001b[0mbson\u001b[0m\u001b[1;33m.\u001b[0m\u001b[0mobjectid\u001b[0m \u001b[1;32mimport\u001b[0m \u001b[0mObjectId\u001b[0m\u001b[1;33m\u001b[0m\u001b[1;33m\u001b[0m\u001b[0m\n\u001b[1;32m---> 35\u001b[1;33m \u001b[1;32mfrom\u001b[0m \u001b[0mbson\u001b[0m\u001b[1;33m.\u001b[0m\u001b[0mraw_bson\u001b[0m \u001b[1;32mimport\u001b[0m \u001b[0mRawBSONDocument\u001b[0m\u001b[1;33m\u001b[0m\u001b[1;33m\u001b[0m\u001b[0m\n\u001b[0m\u001b[0;32m     36\u001b[0m \u001b[1;32mfrom\u001b[0m \u001b[0mbson\u001b[0m\u001b[1;33m.\u001b[0m\u001b[0mson\u001b[0m \u001b[1;32mimport\u001b[0m \u001b[0mSON\u001b[0m\u001b[1;33m\u001b[0m\u001b[1;33m\u001b[0m\u001b[0m\n\u001b[0;32m     37\u001b[0m \u001b[1;32mfrom\u001b[0m \u001b[0mbson\u001b[0m\u001b[1;33m.\u001b[0m\u001b[0mtimestamp\u001b[0m \u001b[1;32mimport\u001b[0m \u001b[0mTimestamp\u001b[0m\u001b[1;33m\u001b[0m\u001b[1;33m\u001b[0m\u001b[0m\n",
      "\u001b[1;32m~\\anaconda3\\envs\\PythonData\\lib\\site-packages\\bson\\raw_bson.py\u001b[0m in \u001b[0;36m<module>\u001b[1;34m\u001b[0m\n\u001b[0;32m     54\u001b[0m \u001b[1;32mfrom\u001b[0m \u001b[0mtyping\u001b[0m \u001b[1;32mimport\u001b[0m \u001b[0mAny\u001b[0m\u001b[1;33m,\u001b[0m \u001b[0mItemsView\u001b[0m\u001b[1;33m,\u001b[0m \u001b[0mIterator\u001b[0m\u001b[1;33m,\u001b[0m \u001b[0mMapping\u001b[0m\u001b[1;33m,\u001b[0m \u001b[0mOptional\u001b[0m\u001b[1;33m\u001b[0m\u001b[1;33m\u001b[0m\u001b[0m\n\u001b[0;32m     55\u001b[0m \u001b[1;33m\u001b[0m\u001b[0m\n\u001b[1;32m---> 56\u001b[1;33m \u001b[1;32mfrom\u001b[0m \u001b[0mbson\u001b[0m \u001b[1;32mimport\u001b[0m \u001b[0m_get_object_size\u001b[0m\u001b[1;33m,\u001b[0m \u001b[0m_raw_to_dict\u001b[0m\u001b[1;33m\u001b[0m\u001b[1;33m\u001b[0m\u001b[0m\n\u001b[0m\u001b[0;32m     57\u001b[0m \u001b[1;32mfrom\u001b[0m \u001b[0mbson\u001b[0m\u001b[1;33m.\u001b[0m\u001b[0mcodec_options\u001b[0m \u001b[1;32mimport\u001b[0m \u001b[0m_RAW_BSON_DOCUMENT_MARKER\u001b[0m\u001b[1;33m\u001b[0m\u001b[1;33m\u001b[0m\u001b[0m\n\u001b[0;32m     58\u001b[0m \u001b[1;32mfrom\u001b[0m \u001b[0mbson\u001b[0m\u001b[1;33m.\u001b[0m\u001b[0mcodec_options\u001b[0m \u001b[1;32mimport\u001b[0m \u001b[0mDEFAULT_CODEC_OPTIONS\u001b[0m \u001b[1;32mas\u001b[0m \u001b[0mDEFAULT\u001b[0m\u001b[1;33m\u001b[0m\u001b[1;33m\u001b[0m\u001b[0m\n",
      "\u001b[1;31mImportError\u001b[0m: cannot import name '_get_object_size' from 'bson' (C:\\Users\\veach\\anaconda3\\envs\\PythonData\\lib\\site-packages\\bson\\__init__.py)"
     ]
    }
   ],
   "source": [
    "from pymongo import MongoClient\n",
    "mongo = MongoClient(port=27017)"
   ]
  },
  {
   "cell_type": "code",
   "execution_count": null,
   "id": "b7a3eab2",
   "metadata": {},
   "outputs": [],
   "source": [
    "print(mongo.list_database_names())"
   ]
  },
  {
   "cell_type": "code",
   "execution_count": null,
   "id": "ae65a663",
   "metadata": {},
   "outputs": [],
   "source": [
    "my_first_db = mongo['my_db']"
   ]
  },
  {
   "cell_type": "code",
   "execution_count": null,
   "id": "b0c926d5",
   "metadata": {},
   "outputs": [],
   "source": [
    "# Note that Mongo does not actually create the new database until a document is inserted into it.\n",
    "# Mongo heirarchy is Database -> Collection -> Document\n",
    "print(mongo.list_database_names())"
   ]
  },
  {
   "cell_type": "code",
   "execution_count": null,
   "id": "fb2a0de0",
   "metadata": {},
   "outputs": [],
   "source": [
    "# Create the collection\n",
    "my_first_collection = my_first_db['my_collection']\n",
    "my_first_db.list_collection_names()"
   ]
  },
  {
   "cell_type": "code",
   "execution_count": null,
   "id": "7720a729",
   "metadata": {},
   "outputs": [],
   "source": [
    "# Now, we can create the document and insert it into the collection. This will initiate the entire heirarchy\n",
    "my_first_collection.insert_one({'name': 'Mickey', 'age': 90})"
   ]
  },
  {
   "cell_type": "code",
   "execution_count": null,
   "id": "3d9acf67",
   "metadata": {},
   "outputs": [],
   "source": [
    "print(mongo.list_database_names())\n",
    "print(my_first_db.list_collection_names())"
   ]
  },
  {
   "cell_type": "code",
   "execution_count": null,
   "id": "1f5191ee",
   "metadata": {},
   "outputs": [],
   "source": [
    "# Add a new document to the collection\n",
    "my_first_collection.insert_one({'name': 'Minnie'})"
   ]
  },
  {
   "cell_type": "code",
   "execution_count": null,
   "id": "d06e4018",
   "metadata": {},
   "outputs": [],
   "source": [
    "# Use find() to to view the documents\n",
    "results = my_first_collection.find()\n",
    "for result in results:\n",
    "    print(result)"
   ]
  },
  {
   "cell_type": "code",
   "execution_count": null,
   "id": "45637ff1",
   "metadata": {},
   "outputs": [],
   "source": [
    "# Mongo requires each document to have a unique identifier. If none is provided, it will create one\n",
    "goofy = {'_id':3, 'name': 'Goofy', 'age': 87, 'species': 'dog'}\n",
    "my_first_collection.insert_one(goofy)\n",
    "\n",
    "results = my_first_collection.find()\n",
    "for result in results:\n",
    "    print(result)"
   ]
  },
  {
   "cell_type": "code",
   "execution_count": null,
   "id": "5650703c",
   "metadata": {},
   "outputs": [],
   "source": [
    "# Mongo also allows inserting multiple documents at the same time with the insert_many() method\n",
    "animals = [{'name': 'Donald', 'species': 'duck'}, {'name': 'Daisy', 'species': 'duck'}]\n",
    "my_first_collection.insert_many(animals)"
   ]
  },
  {
   "cell_type": "code",
   "execution_count": null,
   "id": "353d2915",
   "metadata": {},
   "outputs": [],
   "source": [
    "results = my_first_collection.find()\n",
    "for result in results:\n",
    "    print(result)"
   ]
  },
  {
   "cell_type": "code",
   "execution_count": null,
   "id": "23fa17bb",
   "metadata": {},
   "outputs": [],
   "source": [
    "# A simple query. Note that PyMongo queries must always be formatted as Python dictionaries\n",
    "query = {'name': 'Donald'}\n",
    "results = my_first_collection.find(query)\n",
    "for result in results:\n",
    "    print(result)"
   ]
  },
  {
   "cell_type": "code",
   "execution_count": null,
   "id": "402693a0",
   "metadata": {},
   "outputs": [],
   "source": [
    "# Query all documents with age over 85\n",
    "# The '$' indicates that what follows is an operator\n",
    "# 'gt' is used for 'greater than'\n",
    "query = {'age': {'$gt':85}}\n",
    "results = my_first_collection.find(query)\n",
    "[result for result in results]"
   ]
  },
  {
   "cell_type": "code",
   "execution_count": null,
   "id": "de1129b1",
   "metadata": {},
   "outputs": [],
   "source": [
    "query = {'age': {'$gt': 88}}\n",
    "results = my_first_collection.find(query)\n",
    "[result for result in results]\n"
   ]
  },
  {
   "cell_type": "code",
   "execution_count": null,
   "id": "6d3c99c4",
   "metadata": {},
   "outputs": [],
   "source": [
    "query = {'age': {'$lt': 88}}\n",
    "results = my_first_collection.find(query)\n",
    "[result for result in results]\n"
   ]
  },
  {
   "cell_type": "code",
   "execution_count": null,
   "id": "650acd35",
   "metadata": {},
   "outputs": [],
   "source": [
    "import re\n",
    "\n",
    "query = {'name': {\"$regex\": \"\\w[F-Z]\"}}\n",
    "results = my_first_collection.find(query)\n",
    "[result for result in results]"
   ]
  }
 ],
 "metadata": {
  "kernelspec": {
   "display_name": "PythonData",
   "language": "python",
   "name": "pythondata"
  },
  "language_info": {
   "codemirror_mode": {
    "name": "ipython",
    "version": 3
   },
   "file_extension": ".py",
   "mimetype": "text/x-python",
   "name": "python",
   "nbconvert_exporter": "python",
   "pygments_lexer": "ipython3",
   "version": "3.7.13"
  }
 },
 "nbformat": 4,
 "nbformat_minor": 5
}
